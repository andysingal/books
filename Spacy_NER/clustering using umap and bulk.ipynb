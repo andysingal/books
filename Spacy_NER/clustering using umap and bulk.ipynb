{
 "cells": [
  {
   "cell_type": "code",
   "execution_count": 28,
   "id": "e0ec23ce",
   "metadata": {},
   "outputs": [],
   "source": [
    "import pandas as pd\n",
    "import numpy as np\n",
    "\n",
    "import umap\n",
    "from umap import UMAP"
   ]
  },
  {
   "cell_type": "code",
   "execution_count": 13,
   "id": "82d47ba3",
   "metadata": {},
   "outputs": [
    {
     "data": {
      "text/html": [
       "<div>\n",
       "<style scoped>\n",
       "    .dataframe tbody tr th:only-of-type {\n",
       "        vertical-align: middle;\n",
       "    }\n",
       "\n",
       "    .dataframe tbody tr th {\n",
       "        vertical-align: top;\n",
       "    }\n",
       "\n",
       "    .dataframe thead th {\n",
       "        text-align: right;\n",
       "    }\n",
       "</style>\n",
       "<table border=\"1\" class=\"dataframe\">\n",
       "  <thead>\n",
       "    <tr style=\"text-align: right;\">\n",
       "      <th></th>\n",
       "      <th>title</th>\n",
       "    </tr>\n",
       "  </thead>\n",
       "  <tbody>\n",
       "    <tr>\n",
       "      <th>0</th>\n",
       "      <td>jproperties library installation issue</td>\n",
       "    </tr>\n",
       "    <tr>\n",
       "      <th>1</th>\n",
       "      <td>Union with Null</td>\n",
       "    </tr>\n",
       "    <tr>\n",
       "      <th>2</th>\n",
       "      <td>Spark ReadStream fails to infer schema</td>\n",
       "    </tr>\n",
       "    <tr>\n",
       "      <th>3</th>\n",
       "      <td>Unable to execute Notebook commands</td>\n",
       "    </tr>\n",
       "    <tr>\n",
       "      <th>4</th>\n",
       "      <td>ARR Customer CVS: Issue - Unable to grant read...</td>\n",
       "    </tr>\n",
       "  </tbody>\n",
       "</table>\n",
       "</div>"
      ],
      "text/plain": [
       "                                               title\n",
       "0            jproperties library installation issue \n",
       "1                                    Union with Null\n",
       "2             Spark ReadStream fails to infer schema\n",
       "3                Unable to execute Notebook commands\n",
       "4  ARR Customer CVS: Issue - Unable to grant read..."
      ]
     },
     "execution_count": 13,
     "metadata": {},
     "output_type": "execute_result"
    }
   ],
   "source": [
    "df = pd.read_csv('databricks2.csv')\n",
    "df.dropna()\n",
    "del df['Unnamed: 0']\n",
    "df.head()"
   ]
  },
  {
   "cell_type": "code",
   "execution_count": 14,
   "id": "b281b292",
   "metadata": {},
   "outputs": [
    {
     "data": {
      "text/html": [
       "<div>\n",
       "<style scoped>\n",
       "    .dataframe tbody tr th:only-of-type {\n",
       "        vertical-align: middle;\n",
       "    }\n",
       "\n",
       "    .dataframe tbody tr th {\n",
       "        vertical-align: top;\n",
       "    }\n",
       "\n",
       "    .dataframe thead th {\n",
       "        text-align: right;\n",
       "    }\n",
       "</style>\n",
       "<table border=\"1\" class=\"dataframe\">\n",
       "  <thead>\n",
       "    <tr style=\"text-align: right;\">\n",
       "      <th></th>\n",
       "      <th>title</th>\n",
       "    </tr>\n",
       "  </thead>\n",
       "  <tbody>\n",
       "    <tr>\n",
       "      <th>2475</th>\n",
       "      <td>cluster terminated in databricks, however ec2 ...</td>\n",
       "    </tr>\n",
       "    <tr>\n",
       "      <th>1886</th>\n",
       "      <td>Unable to delete users from https://accounts.c...</td>\n",
       "    </tr>\n",
       "  </tbody>\n",
       "</table>\n",
       "</div>"
      ],
      "text/plain": [
       "                                                  title\n",
       "2475  cluster terminated in databricks, however ec2 ...\n",
       "1886  Unable to delete users from https://accounts.c..."
      ]
     },
     "execution_count": 14,
     "metadata": {},
     "output_type": "execute_result"
    }
   ],
   "source": [
    "df.loc[lambda d: d['title'].str.contains('databricks')].sample(2)"
   ]
  },
  {
   "cell_type": "code",
   "execution_count": 15,
   "id": "2e172b15",
   "metadata": {},
   "outputs": [
    {
     "data": {
      "text/html": [
       "<div>\n",
       "<style scoped>\n",
       "    .dataframe tbody tr th:only-of-type {\n",
       "        vertical-align: middle;\n",
       "    }\n",
       "\n",
       "    .dataframe tbody tr th {\n",
       "        vertical-align: top;\n",
       "    }\n",
       "\n",
       "    .dataframe thead th {\n",
       "        text-align: right;\n",
       "    }\n",
       "</style>\n",
       "<table border=\"1\" class=\"dataframe\">\n",
       "  <thead>\n",
       "    <tr style=\"text-align: right;\">\n",
       "      <th></th>\n",
       "      <th>title</th>\n",
       "    </tr>\n",
       "  </thead>\n",
       "  <tbody>\n",
       "    <tr>\n",
       "      <th>2775</th>\n",
       "      <td>Install Gaitpy in DBR with Python 3.8</td>\n",
       "    </tr>\n",
       "    <tr>\n",
       "      <th>4609</th>\n",
       "      <td>Databricks Job - Structured Streaming</td>\n",
       "    </tr>\n",
       "  </tbody>\n",
       "</table>\n",
       "</div>"
      ],
      "text/plain": [
       "                                      title\n",
       "2775  Install Gaitpy in DBR with Python 3.8\n",
       "4609  Databricks Job - Structured Streaming"
      ]
     },
     "execution_count": 15,
     "metadata": {},
     "output_type": "execute_result"
    }
   ],
   "source": [
    "df.loc[lambda d: d['title'].str.len() < 50].sample(2)"
   ]
  },
  {
   "cell_type": "markdown",
   "id": "5cd45810",
   "metadata": {},
   "source": [
    "# BERT"
   ]
  },
  {
   "cell_type": "code",
   "execution_count": 18,
   "id": "1c96a246",
   "metadata": {},
   "outputs": [
    {
     "name": "stdout",
     "output_type": "stream",
     "text": [
      "Requirement already satisfied: sentence-transformers in /Users/ankush.singal/opt/anaconda3/lib/python3.9/site-packages (2.2.0)\n",
      "Collecting sentence-transformers\n",
      "  Downloading sentence-transformers-2.2.2.tar.gz (85 kB)\n",
      "\u001b[2K     \u001b[90m━━━━━━━━━━━━━━━━━━━━━━━━━━━━━━━━━━━━━━━\u001b[0m \u001b[32m86.0/86.0 kB\u001b[0m \u001b[31m781.9 kB/s\u001b[0m eta \u001b[36m0:00:00\u001b[0ma \u001b[36m0:00:01\u001b[0m\n",
      "\u001b[?25h  Preparing metadata (setup.py) ... \u001b[?25ldone\n",
      "\u001b[?25hRequirement already satisfied: transformers<5.0.0,>=4.6.0 in /Users/ankush.singal/opt/anaconda3/lib/python3.9/site-packages (from sentence-transformers) (4.19.2)\n",
      "Requirement already satisfied: tqdm in /Users/ankush.singal/opt/anaconda3/lib/python3.9/site-packages (from sentence-transformers) (4.64.0)\n",
      "Requirement already satisfied: torch>=1.6.0 in /Users/ankush.singal/opt/anaconda3/lib/python3.9/site-packages (from sentence-transformers) (1.11.0)\n",
      "Requirement already satisfied: torchvision in /Users/ankush.singal/opt/anaconda3/lib/python3.9/site-packages (from sentence-transformers) (0.12.0)\n",
      "Requirement already satisfied: numpy in /Users/ankush.singal/opt/anaconda3/lib/python3.9/site-packages (from sentence-transformers) (1.21.5)\n",
      "Requirement already satisfied: scikit-learn in /Users/ankush.singal/opt/anaconda3/lib/python3.9/site-packages (from sentence-transformers) (1.0.2)\n",
      "Requirement already satisfied: scipy in /Users/ankush.singal/opt/anaconda3/lib/python3.9/site-packages (from sentence-transformers) (1.8.1)\n",
      "Requirement already satisfied: nltk in /Users/ankush.singal/opt/anaconda3/lib/python3.9/site-packages (from sentence-transformers) (3.7)\n",
      "Requirement already satisfied: sentencepiece in /Users/ankush.singal/opt/anaconda3/lib/python3.9/site-packages (from sentence-transformers) (0.1.95)\n",
      "Requirement already satisfied: huggingface-hub>=0.4.0 in /Users/ankush.singal/opt/anaconda3/lib/python3.9/site-packages (from sentence-transformers) (0.7.0)\n",
      "Requirement already satisfied: requests in /Users/ankush.singal/opt/anaconda3/lib/python3.9/site-packages (from huggingface-hub>=0.4.0->sentence-transformers) (2.27.1)\n",
      "Requirement already satisfied: pyyaml>=5.1 in /Users/ankush.singal/opt/anaconda3/lib/python3.9/site-packages (from huggingface-hub>=0.4.0->sentence-transformers) (5.4.1)\n",
      "Requirement already satisfied: packaging>=20.9 in /Users/ankush.singal/opt/anaconda3/lib/python3.9/site-packages (from huggingface-hub>=0.4.0->sentence-transformers) (21.3)\n",
      "Requirement already satisfied: typing-extensions>=3.7.4.3 in /Users/ankush.singal/opt/anaconda3/lib/python3.9/site-packages (from huggingface-hub>=0.4.0->sentence-transformers) (4.1.1)\n",
      "Requirement already satisfied: filelock in /Users/ankush.singal/opt/anaconda3/lib/python3.9/site-packages (from huggingface-hub>=0.4.0->sentence-transformers) (3.6.0)\n",
      "Requirement already satisfied: regex!=2019.12.17 in /Users/ankush.singal/opt/anaconda3/lib/python3.9/site-packages (from transformers<5.0.0,>=4.6.0->sentence-transformers) (2022.3.15)\n",
      "Requirement already satisfied: tokenizers!=0.11.3,<0.13,>=0.11.1 in /Users/ankush.singal/opt/anaconda3/lib/python3.9/site-packages (from transformers<5.0.0,>=4.6.0->sentence-transformers) (0.12.1)\n",
      "Requirement already satisfied: click in /Users/ankush.singal/opt/anaconda3/lib/python3.9/site-packages (from nltk->sentence-transformers) (8.0.4)\n",
      "Requirement already satisfied: joblib in /Users/ankush.singal/opt/anaconda3/lib/python3.9/site-packages (from nltk->sentence-transformers) (1.1.0)\n",
      "Requirement already satisfied: threadpoolctl>=2.0.0 in /Users/ankush.singal/opt/anaconda3/lib/python3.9/site-packages (from scikit-learn->sentence-transformers) (2.2.0)\n",
      "Requirement already satisfied: pillow!=8.3.*,>=5.3.0 in /Users/ankush.singal/opt/anaconda3/lib/python3.9/site-packages (from torchvision->sentence-transformers) (9.0.1)\n",
      "Requirement already satisfied: pyparsing!=3.0.5,>=2.0.2 in /Users/ankush.singal/opt/anaconda3/lib/python3.9/site-packages (from packaging>=20.9->huggingface-hub>=0.4.0->sentence-transformers) (3.0.4)\n",
      "Requirement already satisfied: idna<4,>=2.5 in /Users/ankush.singal/opt/anaconda3/lib/python3.9/site-packages (from requests->huggingface-hub>=0.4.0->sentence-transformers) (3.3)\n",
      "Requirement already satisfied: certifi>=2017.4.17 in /Users/ankush.singal/opt/anaconda3/lib/python3.9/site-packages (from requests->huggingface-hub>=0.4.0->sentence-transformers) (2022.5.18.1)\n",
      "Requirement already satisfied: urllib3<1.27,>=1.21.1 in /Users/ankush.singal/opt/anaconda3/lib/python3.9/site-packages (from requests->huggingface-hub>=0.4.0->sentence-transformers) (1.26.9)\n",
      "Requirement already satisfied: charset-normalizer~=2.0.0 in /Users/ankush.singal/opt/anaconda3/lib/python3.9/site-packages (from requests->huggingface-hub>=0.4.0->sentence-transformers) (2.0.4)\n",
      "Building wheels for collected packages: sentence-transformers\n",
      "  Building wheel for sentence-transformers (setup.py) ... \u001b[?25ldone\n",
      "\u001b[?25h  Created wheel for sentence-transformers: filename=sentence_transformers-2.2.2-py3-none-any.whl size=125925 sha256=4c1cf2e28fa133da6b36c838cb1dc69816b667e959e45fc07a2f3ab8715b0a05\n",
      "  Stored in directory: /Users/ankush.singal/Library/Caches/pip/wheels/71/67/06/162a3760c40d74dd40bc855d527008d26341c2b0ecf3e8e11f\n",
      "Successfully built sentence-transformers\n",
      "Installing collected packages: sentence-transformers\n",
      "  Attempting uninstall: sentence-transformers\n",
      "    Found existing installation: sentence-transformers 2.2.0\n",
      "    Uninstalling sentence-transformers-2.2.0:\n",
      "      Successfully uninstalled sentence-transformers-2.2.0\n",
      "Successfully installed sentence-transformers-2.2.2\n"
     ]
    }
   ],
   "source": [
    "!pip install -U sentence-transformers"
   ]
  },
  {
   "cell_type": "code",
   "execution_count": 21,
   "id": "5582bbc3",
   "metadata": {},
   "outputs": [],
   "source": [
    "from sentence_transformers import SentenceTransformer"
   ]
  },
  {
   "cell_type": "code",
   "execution_count": 22,
   "id": "80213f5f",
   "metadata": {},
   "outputs": [
    {
     "data": {
      "application/vnd.jupyter.widget-view+json": {
       "model_id": "c804b93337dc4000b35f6604f75017b0",
       "version_major": 2,
       "version_minor": 0
      },
      "text/plain": [
       "Downloading:   0%|          | 0.00/690 [00:00<?, ?B/s]"
      ]
     },
     "metadata": {},
     "output_type": "display_data"
    },
    {
     "data": {
      "application/vnd.jupyter.widget-view+json": {
       "model_id": "8494cd1053f54f56a76dd6c20e2b65ad",
       "version_major": 2,
       "version_minor": 0
      },
      "text/plain": [
       "Downloading:   0%|          | 0.00/190 [00:00<?, ?B/s]"
      ]
     },
     "metadata": {},
     "output_type": "display_data"
    },
    {
     "data": {
      "application/vnd.jupyter.widget-view+json": {
       "model_id": "cf1b6e76a5974a13944ae58330d1a334",
       "version_major": 2,
       "version_minor": 0
      },
      "text/plain": [
       "Downloading:   0%|          | 0.00/3.69k [00:00<?, ?B/s]"
      ]
     },
     "metadata": {},
     "output_type": "display_data"
    },
    {
     "data": {
      "application/vnd.jupyter.widget-view+json": {
       "model_id": "762c8eb9f3834198bab9e1fde47c8e2f",
       "version_major": 2,
       "version_minor": 0
      },
      "text/plain": [
       "Downloading:   0%|          | 0.00/629 [00:00<?, ?B/s]"
      ]
     },
     "metadata": {},
     "output_type": "display_data"
    },
    {
     "data": {
      "application/vnd.jupyter.widget-view+json": {
       "model_id": "1d37ba46fc44408081feb58baa505657",
       "version_major": 2,
       "version_minor": 0
      },
      "text/plain": [
       "Downloading:   0%|          | 0.00/122 [00:00<?, ?B/s]"
      ]
     },
     "metadata": {},
     "output_type": "display_data"
    },
    {
     "data": {
      "application/vnd.jupyter.widget-view+json": {
       "model_id": "1d8cf96ec35c484a8421ae5bbb802897",
       "version_major": 2,
       "version_minor": 0
      },
      "text/plain": [
       "Downloading:   0%|          | 0.00/90.9M [00:00<?, ?B/s]"
      ]
     },
     "metadata": {},
     "output_type": "display_data"
    },
    {
     "data": {
      "application/vnd.jupyter.widget-view+json": {
       "model_id": "8b3d497832de43a3ad863283378e0ed7",
       "version_major": 2,
       "version_minor": 0
      },
      "text/plain": [
       "Downloading:   0%|          | 0.00/53.0 [00:00<?, ?B/s]"
      ]
     },
     "metadata": {},
     "output_type": "display_data"
    },
    {
     "data": {
      "application/vnd.jupyter.widget-view+json": {
       "model_id": "f63d797899ae4b7780bb603815b16527",
       "version_major": 2,
       "version_minor": 0
      },
      "text/plain": [
       "Downloading:   0%|          | 0.00/112 [00:00<?, ?B/s]"
      ]
     },
     "metadata": {},
     "output_type": "display_data"
    },
    {
     "data": {
      "application/vnd.jupyter.widget-view+json": {
       "model_id": "c7a221bfc7e5476ba719bc13e52e12f0",
       "version_major": 2,
       "version_minor": 0
      },
      "text/plain": [
       "Downloading:   0%|          | 0.00/466k [00:00<?, ?B/s]"
      ]
     },
     "metadata": {},
     "output_type": "display_data"
    },
    {
     "data": {
      "application/vnd.jupyter.widget-view+json": {
       "model_id": "4175e717f1b2421e8c3b92661b6a5daa",
       "version_major": 2,
       "version_minor": 0
      },
      "text/plain": [
       "Downloading:   0%|          | 0.00/314 [00:00<?, ?B/s]"
      ]
     },
     "metadata": {},
     "output_type": "display_data"
    },
    {
     "data": {
      "application/vnd.jupyter.widget-view+json": {
       "model_id": "96436557169e464a906b4d009e11388d",
       "version_major": 2,
       "version_minor": 0
      },
      "text/plain": [
       "Downloading:   0%|          | 0.00/232k [00:00<?, ?B/s]"
      ]
     },
     "metadata": {},
     "output_type": "display_data"
    },
    {
     "data": {
      "application/vnd.jupyter.widget-view+json": {
       "model_id": "00a7f258453f4eeca7d20f6a20ccd0cd",
       "version_major": 2,
       "version_minor": 0
      },
      "text/plain": [
       "Downloading:   0%|          | 0.00/229 [00:00<?, ?B/s]"
      ]
     },
     "metadata": {},
     "output_type": "display_data"
    }
   ],
   "source": [
    "#Load the embedding tool\n",
    "model = SentenceTransformer('paraphrase-MiniLM-L6-v2')"
   ]
  },
  {
   "cell_type": "code",
   "execution_count": 25,
   "id": "54148761",
   "metadata": {},
   "outputs": [
    {
     "name": "stdout",
     "output_type": "stream",
     "text": [
      "huggingface/tokenizers: The current process just got forked, after parallelism has already been used. Disabling parallelism to avoid deadlocks...\n",
      "To disable this warning, you can either:\n",
      "\t- Avoid using `tokenizers` before the fork if possible\n",
      "\t- Explicitly set the environment variable TOKENIZERS_PARALLELISM=(true | false)\n",
      "Requirement already satisfied: umap-learn in /Users/ankush.singal/opt/anaconda3/lib/python3.9/site-packages (0.5.3)\n",
      "Requirement already satisfied: scipy>=1.0 in /Users/ankush.singal/opt/anaconda3/lib/python3.9/site-packages (from umap-learn) (1.8.1)\n",
      "Requirement already satisfied: pynndescent>=0.5 in /Users/ankush.singal/opt/anaconda3/lib/python3.9/site-packages (from umap-learn) (0.5.7)\n",
      "Requirement already satisfied: numba>=0.49 in /Users/ankush.singal/opt/anaconda3/lib/python3.9/site-packages (from umap-learn) (0.55.1)\n",
      "Requirement already satisfied: tqdm in /Users/ankush.singal/opt/anaconda3/lib/python3.9/site-packages (from umap-learn) (4.64.0)\n",
      "Requirement already satisfied: scikit-learn>=0.22 in /Users/ankush.singal/opt/anaconda3/lib/python3.9/site-packages (from umap-learn) (1.0.2)\n",
      "Requirement already satisfied: numpy>=1.17 in /Users/ankush.singal/opt/anaconda3/lib/python3.9/site-packages (from umap-learn) (1.21.5)\n",
      "Requirement already satisfied: llvmlite<0.39,>=0.38.0rc1 in /Users/ankush.singal/opt/anaconda3/lib/python3.9/site-packages (from numba>=0.49->umap-learn) (0.38.0)\n",
      "Requirement already satisfied: setuptools in /Users/ankush.singal/opt/anaconda3/lib/python3.9/site-packages (from numba>=0.49->umap-learn) (62.3.3)\n",
      "Requirement already satisfied: joblib>=0.11 in /Users/ankush.singal/opt/anaconda3/lib/python3.9/site-packages (from pynndescent>=0.5->umap-learn) (1.1.0)\n",
      "Requirement already satisfied: threadpoolctl>=2.0.0 in /Users/ankush.singal/opt/anaconda3/lib/python3.9/site-packages (from scikit-learn>=0.22->umap-learn) (2.2.0)\n"
     ]
    }
   ],
   "source": [
    "!pip install umap-learn"
   ]
  },
  {
   "cell_type": "markdown",
   "id": "d38d24e8",
   "metadata": {},
   "source": [
    "# Calculate Embedding"
   ]
  },
  {
   "cell_type": "code",
   "execution_count": 24,
   "id": "5e6e5886",
   "metadata": {},
   "outputs": [],
   "source": [
    "X = model.encode(df['title'])"
   ]
  },
  {
   "cell_type": "markdown",
   "id": "28fb0295",
   "metadata": {},
   "source": [
    "# Reduce the Dimension with UMAP"
   ]
  },
  {
   "cell_type": "code",
   "execution_count": 29,
   "id": "8562c21f",
   "metadata": {},
   "outputs": [],
   "source": [
    "umap=UMAP(n_components=2)\n",
    "X_tfm=umap.fit_transform(X)"
   ]
  },
  {
   "cell_type": "markdown",
   "id": "d497cbd1",
   "metadata": {},
   "source": [
    "# Apply coordinates"
   ]
  },
  {
   "cell_type": "code",
   "execution_count": 30,
   "id": "273ee919",
   "metadata": {},
   "outputs": [],
   "source": [
    "df['x'] = X_tfm[:,0]\n",
    "df['y'] = X_tfm[:,1]"
   ]
  },
  {
   "cell_type": "code",
   "execution_count": 38,
   "id": "117209cf",
   "metadata": {},
   "outputs": [
    {
     "data": {
      "text/html": [
       "<div>\n",
       "<style scoped>\n",
       "    .dataframe tbody tr th:only-of-type {\n",
       "        vertical-align: middle;\n",
       "    }\n",
       "\n",
       "    .dataframe tbody tr th {\n",
       "        vertical-align: top;\n",
       "    }\n",
       "\n",
       "    .dataframe thead th {\n",
       "        text-align: right;\n",
       "    }\n",
       "</style>\n",
       "<table border=\"1\" class=\"dataframe\">\n",
       "  <thead>\n",
       "    <tr style=\"text-align: right;\">\n",
       "      <th></th>\n",
       "      <th>text</th>\n",
       "      <th>x</th>\n",
       "      <th>y</th>\n",
       "    </tr>\n",
       "  </thead>\n",
       "  <tbody>\n",
       "    <tr>\n",
       "      <th>0</th>\n",
       "      <td>jproperties library installation issue</td>\n",
       "      <td>8.931051</td>\n",
       "      <td>-1.154583</td>\n",
       "    </tr>\n",
       "    <tr>\n",
       "      <th>1</th>\n",
       "      <td>Union with Null</td>\n",
       "      <td>10.011130</td>\n",
       "      <td>1.056317</td>\n",
       "    </tr>\n",
       "    <tr>\n",
       "      <th>2</th>\n",
       "      <td>Spark ReadStream fails to infer schema</td>\n",
       "      <td>9.682724</td>\n",
       "      <td>0.333577</td>\n",
       "    </tr>\n",
       "    <tr>\n",
       "      <th>3</th>\n",
       "      <td>Unable to execute Notebook commands</td>\n",
       "      <td>10.602716</td>\n",
       "      <td>-2.056476</td>\n",
       "    </tr>\n",
       "    <tr>\n",
       "      <th>4</th>\n",
       "      <td>ARR Customer CVS: Issue - Unable to grant read...</td>\n",
       "      <td>9.470019</td>\n",
       "      <td>3.425023</td>\n",
       "    </tr>\n",
       "  </tbody>\n",
       "</table>\n",
       "</div>"
      ],
      "text/plain": [
       "                                                text          x         y\n",
       "0            jproperties library installation issue    8.931051 -1.154583\n",
       "1                                    Union with Null  10.011130  1.056317\n",
       "2             Spark ReadStream fails to infer schema   9.682724  0.333577\n",
       "3                Unable to execute Notebook commands  10.602716 -2.056476\n",
       "4  ARR Customer CVS: Issue - Unable to grant read...   9.470019  3.425023"
      ]
     },
     "execution_count": 38,
     "metadata": {},
     "output_type": "execute_result"
    }
   ],
   "source": [
    "df.rename(columns={'title':'text'},inplace=True)\n",
    "df.head()"
   ]
  },
  {
   "cell_type": "code",
   "execution_count": 40,
   "id": "892b66bc",
   "metadata": {},
   "outputs": [],
   "source": [
    "df.to_csv(\"ready.csv\",index=False)"
   ]
  },
  {
   "cell_type": "code",
   "execution_count": 43,
   "id": "e3fbd4de",
   "metadata": {},
   "outputs": [
    {
     "data": {
      "text/html": [
       "<div>\n",
       "<style scoped>\n",
       "    .dataframe tbody tr th:only-of-type {\n",
       "        vertical-align: middle;\n",
       "    }\n",
       "\n",
       "    .dataframe tbody tr th {\n",
       "        vertical-align: top;\n",
       "    }\n",
       "\n",
       "    .dataframe thead th {\n",
       "        text-align: right;\n",
       "    }\n",
       "</style>\n",
       "<table border=\"1\" class=\"dataframe\">\n",
       "  <thead>\n",
       "    <tr style=\"text-align: right;\">\n",
       "      <th></th>\n",
       "      <th>text</th>\n",
       "    </tr>\n",
       "  </thead>\n",
       "  <tbody>\n",
       "    <tr>\n",
       "      <th>0</th>\n",
       "      <td>Union with Null</td>\n",
       "    </tr>\n",
       "    <tr>\n",
       "      <th>1</th>\n",
       "      <td>Commands getting cancelled, spark mssqlconnect...</td>\n",
       "    </tr>\n",
       "    <tr>\n",
       "      <th>2</th>\n",
       "      <td>Jobs failing with 'File already exists'</td>\n",
       "    </tr>\n",
       "    <tr>\n",
       "      <th>3</th>\n",
       "      <td>Facing import issue in job</td>\n",
       "    </tr>\n",
       "    <tr>\n",
       "      <th>4</th>\n",
       "      <td>Command stucks when submitted</td>\n",
       "    </tr>\n",
       "  </tbody>\n",
       "</table>\n",
       "</div>"
      ],
      "text/plain": [
       "                                                text\n",
       "0                                    Union with Null\n",
       "1  Commands getting cancelled, spark mssqlconnect...\n",
       "2            Jobs failing with 'File already exists'\n",
       "3                         Facing import issue in job\n",
       "4                      Command stucks when submitted"
      ]
     },
     "execution_count": 43,
     "metadata": {},
     "output_type": "execute_result"
    }
   ],
   "source": [
    "df2 = pd.read_csv('out.csv')\n",
    "df2\n",
    "df2.head()"
   ]
  },
  {
   "cell_type": "code",
   "execution_count": 42,
   "id": "165696eb",
   "metadata": {},
   "outputs": [],
   "source": [
    "#https://github.com/koaning/bulk"
   ]
  },
  {
   "cell_type": "code",
   "execution_count": 45,
   "id": "9c69b6c2",
   "metadata": {},
   "outputs": [],
   "source": [
    "#https://www.youtube.com/watch?v=gDk7_f3ovIk"
   ]
  },
  {
   "cell_type": "code",
   "execution_count": null,
   "id": "5441810a",
   "metadata": {},
   "outputs": [],
   "source": []
  }
 ],
 "metadata": {
  "kernelspec": {
   "display_name": "Python 3 (ipykernel)",
   "language": "python",
   "name": "python3"
  },
  "language_info": {
   "codemirror_mode": {
    "name": "ipython",
    "version": 3
   },
   "file_extension": ".py",
   "mimetype": "text/x-python",
   "name": "python",
   "nbconvert_exporter": "python",
   "pygments_lexer": "ipython3",
   "version": "3.9.12"
  }
 },
 "nbformat": 4,
 "nbformat_minor": 5
}
